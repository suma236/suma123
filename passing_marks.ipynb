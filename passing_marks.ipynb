{
  "nbformat": 4,
  "nbformat_minor": 0,
  "metadata": {
    "colab": {
      "name": "passing marks",
      "provenance": []
    },
    "kernelspec": {
      "name": "python3",
      "display_name": "Python 3"
    }
  },
  "cells": [
    {
      "cell_type": "code",
      "metadata": {
        "id": "3H3YAi9shhzs",
        "colab_type": "code",
        "colab": {
          "base_uri": "https://localhost:8080/",
          "height": 50
        },
        "outputId": "f6f814ec-2f34-47d2-80e5-685fb4cb3847"
      },
      "source": [
        "marks=float(input(\"Enter marks of the student\"))\n",
        "if marks>=35:\n",
        "    print(\"Student has passed in the subject\")\n",
        "else:\n",
        "    print(\"Student has failed in the subject\")\n",
        "    "
      ],
      "execution_count": 2,
      "outputs": [
        {
          "output_type": "stream",
          "text": [
            "Enter marks of the student40\n",
            "Student has passed in the subject\n"
          ],
          "name": "stdout"
        }
      ]
    }
  ]
}