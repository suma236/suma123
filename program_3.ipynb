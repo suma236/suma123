{
  "nbformat": 4,
  "nbformat_minor": 0,
  "metadata": {
    "colab": {
      "name": "program 3.ipynb",
      "provenance": []
    },
    "kernelspec": {
      "name": "python3",
      "display_name": "Python 3"
    }
  },
  "cells": [
    {
      "cell_type": "code",
      "metadata": {
        "id": "mIni1E9liw9X",
        "colab_type": "code",
        "colab": {
          "base_uri": "https://localhost:8080/",
          "height": 67
        },
        "outputId": "e1474fdf-45e8-4a60-a740-4a09c964c4b8"
      },
      "source": [
        "a=int(input(\"Enter first number:\"))\n",
        "b=int(input(\"Enter second number:\"))\n",
        "c=a+b\n",
        "if c>5:\n",
        "    print(\"Sum is greater than 5\")\n",
        "elif c<5:\n",
        "     print(\"Sum is less than 5\")\n",
        "else:\n",
        "    print(\"Sum is equal to 5\")"
      ],
      "execution_count": null,
      "outputs": [
        {
          "output_type": "stream",
          "text": [
            "Enter first number:6\n",
            "Enter second number:4\n",
            "Sum is greater than 5\n"
          ],
          "name": "stdout"
        }
      ]
    }
  ]
}