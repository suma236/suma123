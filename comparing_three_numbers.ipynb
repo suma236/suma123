{
  "nbformat": 4,
  "nbformat_minor": 0,
  "metadata": {
    "colab": {
      "name": "comparing three numbers.ipynb",
      "provenance": []
    },
    "kernelspec": {
      "name": "python3",
      "display_name": "Python 3"
    }
  },
  "cells": [
    {
      "cell_type": "code",
      "metadata": {
        "id": "22rQ3nfNlboh",
        "colab_type": "code",
        "colab": {
          "base_uri": "https://localhost:8080/",
          "height": 101
        },
        "outputId": "b9793d08-5949-43fb-eb70-1ea1dff02460"
      },
      "source": [
        "a = input(\"Enter the first number:\")\n",
        "b = input(\"Enter the second number:\")\n",
        "c = input(\"Enter the third number:\")\n",
        "all = a == b and b == c and c == a\n",
        "print(\" all inputs are equal\",all)\n",
        "any  = a == b or b == c or c == a \n",
        "print(\"two inputs are  equal.\",any) "
      ],
      "execution_count": null,
      "outputs": [
        {
          "output_type": "stream",
          "text": [
            "Enter the first number:2\n",
            "Enter the second number:3\n",
            "Enter the third number:4\n",
            " all inputs are equal False\n",
            "two inputs are  equal. False\n"
          ],
          "name": "stdout"
        }
      ]
    }
  ]
}