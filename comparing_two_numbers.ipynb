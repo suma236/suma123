{
  "nbformat": 4,
  "nbformat_minor": 0,
  "metadata": {
    "colab": {
      "name": "comparing two numbers.ipynb",
      "provenance": []
    },
    "kernelspec": {
      "name": "python3",
      "display_name": "Python 3"
    }
  },
  "cells": [
    {
      "cell_type": "code",
      "metadata": {
        "id": "7g0VLO15hIAG",
        "colab_type": "code",
        "colab": {
          "base_uri": "https://localhost:8080/",
          "height": 67
        },
        "outputId": "89e82abd-f593-48ec-f080-3feba471bff4"
      },
      "source": [
        "a = input(\"Enter the first number: \")\n",
        "b = input(\"Enter the second number: \")\n",
        "if a == b:\n",
        "  print (\"Both inputs are equal\")\n",
        "else:\n",
        "  print (\"Your input is not equal.\")"
      ],
      "execution_count": null,
      "outputs": [
        {
          "output_type": "stream",
          "text": [
            "Enter the first number: 8\n",
            "Enter the second number: 5\n",
            "Your input is not equal.\n"
          ],
          "name": "stdout"
        }
      ]
    }
  ]
}